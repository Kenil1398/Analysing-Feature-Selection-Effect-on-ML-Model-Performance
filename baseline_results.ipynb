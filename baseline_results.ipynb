{
 "cells": [
  {
   "cell_type": "code",
   "execution_count": null,
   "id": "40ebf5c5",
   "metadata": {},
   "outputs": [],
   "source": [
    "import pandas as pd\n",
    "from sklearn.metrics import accuracy_score, f1_score, precision_score, recall_score\n",
    "from sklearn.model_selection import train_test_split\n",
    "from sklearn.model_selection import StratifiedKFold\n",
    "from sklearn.metrics import classification_report\n",
    "\n",
    "from sklearn.naive_bayes import GaussianNB\n",
    "from sklearn import naive_bayes\n",
    "from sklearn.tree import DecisionTreeClassifier\n",
    "from sklearn.svm import SVC\n",
    "from sklearn.neural_network import MLPClassifier\n",
    "\n",
    "import warnings\n",
    "import sklearn.exceptions\n",
    "warnings.filterwarnings(\"ignore\", category=sklearn.exceptions.UndefinedMetricWarning)"
   ]
  },
  {
   "cell_type": "code",
   "execution_count": null,
   "id": "9b493d1b",
   "metadata": {},
   "outputs": [],
   "source": [
    "clf_name = int(input('Select 1 of the 4 available classisifiers.\\n 1 - Naive Bayes\\n \\\n",
    "2 - Decision Trees \\n 3 - Support Vector Machines \\n 4 - Multi-Layer Perceptron\\n'))\n",
    "\n",
    "for i in range(1,14):\n",
    "    #Change the path to the directory containing datasets\n",
    "    filename = 'Datasets/D'+str(i)+'.csv'\n",
    "    Data = pd.read_csv(filename, header=None)\n",
    "    if i==13:\n",
    "        Data.drop([92], axis=1, inplace=True)\n",
    "    Xi = Data[Data.columns[:-1]]\n",
    "    Yi = Data[Data.columns[-1]]\n",
    "    \n",
    "    if clf_name == 1:\n",
    "        clf = GaussianNB()\n",
    "        print('\\n Naive Bayes selected.')\n",
    "    elif clf_name == 2:\n",
    "        clf = DecisionTreeClassifier(max_depth = Xi.shape[1])\n",
    "        print('\\nDecision Tree selected.')\n",
    "    elif clf_name == 3:\n",
    "        clf = SVC(kernel='rbf', gamma=0.5,C=10000)\n",
    "        print('\\nSupport Vector Machine selected.')\n",
    "    elif clf_name == 4:\n",
    "        clf = MLPClassifier(hidden_layer_sizes=(10, 10, 10), max_iter=1000)\n",
    "        print('\\nMulti-Layer Perceptron selected.')\n",
    "    else:\n",
    "        print('[Error] Please select one the the available classifiers.')\n",
    "        break\n",
    "    \n",
    "    kf = StratifiedKFold(n_splits=10, shuffle=True)\n",
    "    print(\"Dataset D{} split into folds. Training now...\".format(i))\n",
    "    j = 1\n",
    "    for train_idx, test_idx in kf.split(Xi, Yi):\n",
    "        x_train, x_test = Xi.iloc[train_idx],Xi.iloc[test_idx]\n",
    "        y_train, y_test = Yi.iloc[train_idx],Yi.iloc[test_idx]\n",
    "\n",
    "        clf.fit(x_train, y_train)\n",
    "        y_pred = clf.predict(x_test)\n",
    "        acc = accuracy_score(y_test, y_pred)\n",
    "        f1 = f1_score(y_test, y_pred, average='weighted')\n",
    "        print('\\tFold',j)\n",
    "        print(\"\\tAccuracy:\",acc)\n",
    "        print(\"\\tf1:\", f1)\n",
    "        print()\n",
    "        j+=1"
   ]
  }
 ],
 "metadata": {
  "kernelspec": {
   "display_name": "Python 3",
   "language": "python",
   "name": "python3"
  },
  "language_info": {
   "codemirror_mode": {
    "name": "ipython",
    "version": 3
   },
   "file_extension": ".py",
   "mimetype": "text/x-python",
   "name": "python",
   "nbconvert_exporter": "python",
   "pygments_lexer": "ipython3",
   "version": "3.8.8"
  }
 },
 "nbformat": 4,
 "nbformat_minor": 5
}
