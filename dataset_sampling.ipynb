{
 "cells": [
  {
   "cell_type": "code",
   "execution_count": null,
   "id": "6da11491",
   "metadata": {},
   "outputs": [],
   "source": [
    "import pandas as pd\n",
    "import os"
   ]
  },
  {
   "cell_type": "code",
   "execution_count": null,
   "id": "f813dfc9",
   "metadata": {},
   "outputs": [],
   "source": [
    "for i in range(1,14):\n",
    "    #Change the filepath to the directory containing datasets\n",
    "    df = pd.read_csv('Datasets/D'+str(i)+'.csv', header=None)\n",
    "    if df.shape[0]>7000:\n",
    "        df_sample = df.groupby(df.columns[-1]).sample(n=100, random_state=1)\n",
    "        df_sample.to_csv('Sampled_Datasets/Sampled_D'+str(i)+'.csv', index=False)\n",
    "    print('Sampled Dataset {} saved.'.format(i))"
   ]
  }
 ],
 "metadata": {
  "kernelspec": {
   "display_name": "Python 3",
   "language": "python",
   "name": "python3"
  },
  "language_info": {
   "codemirror_mode": {
    "name": "ipython",
    "version": 3
   },
   "file_extension": ".py",
   "mimetype": "text/x-python",
   "name": "python",
   "nbconvert_exporter": "python",
   "pygments_lexer": "ipython3",
   "version": "3.8.8"
  }
 },
 "nbformat": 4,
 "nbformat_minor": 5
}
