{
 "cells": [
  {
   "cell_type": "code",
   "execution_count": 1,
   "metadata": {
    "colab": {
     "base_uri": "https://localhost:8080/"
    },
    "id": "PjyjhjpBMz0y",
    "outputId": "a5854a7d-2c7f-49a7-c3c9-deaf6606f4c1"
   },
   "outputs": [
    {
     "name": "stdout",
     "output_type": "stream",
     "text": [
      "Collecting git+https://github.com/jundongl/scikit-feature.git\n",
      "  Cloning https://github.com/jundongl/scikit-feature.git to c:\\users\\hp\\appdata\\local\\temp\\pip-req-build-16svixwe\n",
      "  Resolved https://github.com/jundongl/scikit-feature.git to commit 48cffad4e88ff4b9d2f1c7baffb314d1b3303792\n",
      "  Preparing metadata (setup.py): started\n",
      "  Preparing metadata (setup.py): finished with status 'done'\n"
     ]
    },
    {
     "name": "stderr",
     "output_type": "stream",
     "text": [
      "WARNING: Ignoring invalid distribution -yflakes (c:\\users\\hp\\anaconda3\\lib\\site-packages)\n",
      "WARNING: Ignoring invalid distribution -lake8 (c:\\users\\hp\\anaconda3\\lib\\site-packages)\n",
      "WARNING: Ignoring invalid distribution -yflakes (c:\\users\\hp\\anaconda3\\lib\\site-packages)\n",
      "WARNING: Ignoring invalid distribution -lake8 (c:\\users\\hp\\anaconda3\\lib\\site-packages)\n",
      "  Running command git clone --filter=blob:none -q https://github.com/jundongl/scikit-feature.git 'C:\\Users\\HP\\AppData\\Local\\Temp\\pip-req-build-16svixwe'\n",
      "WARNING: Ignoring invalid distribution -yflakes (c:\\users\\hp\\anaconda3\\lib\\site-packages)\n",
      "WARNING: Ignoring invalid distribution -lake8 (c:\\users\\hp\\anaconda3\\lib\\site-packages)\n",
      "WARNING: Ignoring invalid distribution -yflakes (c:\\users\\hp\\anaconda3\\lib\\site-packages)\n",
      "WARNING: Ignoring invalid distribution -lake8 (c:\\users\\hp\\anaconda3\\lib\\site-packages)\n",
      "WARNING: Ignoring invalid distribution -yflakes (c:\\users\\hp\\anaconda3\\lib\\site-packages)\n",
      "WARNING: Ignoring invalid distribution -lake8 (c:\\users\\hp\\anaconda3\\lib\\site-packages)\n"
     ]
    }
   ],
   "source": [
    "!pip install git+https://github.com/jundongl/scikit-feature.git"
   ]
  },
  {
   "cell_type": "code",
   "execution_count": 2,
   "metadata": {
    "id": "3uYq9Y4_HHAN"
   },
   "outputs": [],
   "source": [
    "import pandas as pd\n",
    "import numpy as np\n",
    "import matplotlib.pyplot as plt\n",
    "import sklearn\n",
    "from sklearn.model_selection import cross_validate\n",
    "from sklearn.model_selection import train_test_split\n",
    "from sklearn.metrics import accuracy_score, f1_score, precision_score, recall_score\n",
    "from sklearn.model_selection import StratifiedKFold\n",
    "from sklearn.model_selection import cross_val_score\n",
    "from sklearn.neighbors import KNeighborsClassifier\n",
    "from sklearn import tree\n",
    "from sklearn.preprocessing import MinMaxScaler\n",
    "from sklearn.utils import shuffle\n",
    "from sklearn import metrics\n",
    "from skfeature.function.sparse_learning_based import UDFS\n",
    "from skfeature.utility.sparse_learning import feature_ranking\n",
    "import pickle\n",
    "import warnings\n",
    "import os\n",
    "warnings.simplefilter('ignore')"
   ]
  },
  {
   "cell_type": "code",
   "execution_count": null,
   "metadata": {
    "colab": {
     "base_uri": "https://localhost:8080/"
    },
    "id": "JlDchvJZoFAD",
    "outputId": "92f2856e-c0f2-4d0f-bfff-989d5f83209a"
   },
   "outputs": [],
   "source": [
    "from google.colab import drive\n",
    "drive.mount('/content/drive')"
   ]
  },
  {
   "cell_type": "code",
   "execution_count": null,
   "metadata": {
    "id": "xt-zuK1uKzBI"
   },
   "outputs": [],
   "source": [
    "#Change the filepath to the directory where you want to store UDFS feature ranks\n",
    "scores_dir = \"/content/drive/MyDrive/udfs_results\"\n",
    "for i in range(1,14):\n",
    "    #Change the filepath to the directory containing datasets\n",
    "    filename = \"/content/drive/MyDrive/Datasets/D\"+str(i)+\".csv\"\n",
    "    df = pd.read_csv(filename, header=None)\n",
    "    X = df[df.columns[:-1]]\n",
    "    Y = df[df.columns[-1]]\n",
    "    weights = UDFS.udfs(X, gamma=0.1)\n",
    "    scores = feature_ranking(weights)\n",
    "    scores_filename = os.path.join(scores_dir,\"D\"+str(i)+\".txt\")\n",
    "    with open(scores_filename,\"w\") as file:\n",
    "        file.truncate(0)\n",
    "        file.write(str(scores))"
   ]
  },
  {
   "cell_type": "code",
   "execution_count": null,
   "metadata": {
    "id": "AcKQ2x4-wb3B"
   },
   "outputs": [],
   "source": []
  }
 ],
 "metadata": {
  "accelerator": "TPU",
  "colab": {
   "collapsed_sections": [],
   "name": "UDFS.ipynb",
   "provenance": []
  },
  "kernelspec": {
   "display_name": "Python 3",
   "language": "python",
   "name": "python3"
  },
  "language_info": {
   "codemirror_mode": {
    "name": "ipython",
    "version": 3
   },
   "file_extension": ".py",
   "mimetype": "text/x-python",
   "name": "python",
   "nbconvert_exporter": "python",
   "pygments_lexer": "ipython3",
   "version": "3.8.8"
  }
 },
 "nbformat": 4,
 "nbformat_minor": 1
}
